{
  "nbformat": 4,
  "nbformat_minor": 0,
  "metadata": {
    "colab": {
      "provenance": []
    },
    "kernelspec": {
      "name": "python3",
      "display_name": "Python 3"
    },
    "language_info": {
      "name": "python"
    }
  },
  "cells": [
    {
      "cell_type": "markdown",
      "source": [
        "Question 1: What are the five key concepts of Object-Oriented Programming (OOP)?"
      ],
      "metadata": {
        "id": "OKmt_SYTtSXn"
      }
    },
    {
      "cell_type": "markdown",
      "source": [
        "Ans 1: The five key concepts  of OOp are:\n",
        "\n",
        "1.Class:>> class is a blueprint for creating a objects.it define a datatype by building data and methods that work on the data into one single unit.\n",
        "\n",
        "\n",
        "2.Objects:>> An instance of class.Objects are the basic units of oops and represent real-world entities.\n",
        "\n",
        "\n",
        "\n",
        "3.Encapsulation:>>means hiding something\n",
        "The concept of wrapping data and methods that operate on the data within one unit,typically a class. This helps  to hide the internal state of thhe object from the outside world.\n",
        "\n",
        "\n",
        "4.Inheritance:>> A mechanism where a new class inherits properties and behaviour(methods) from an existing class.This promotes code resuability.\n",
        "\n",
        "\n",
        "5.Polymorphism:>> poly means many ,morphism means forms/states\n",
        "\n",
        "The ability of different classes to be treated as instancees of the same class through inheritance.it allows one interface to be used for a general class of actions.\n"
      ],
      "metadata": {
        "id": "Uk1UtLewtiZu"
      }
    },
    {
      "cell_type": "markdown",
      "source": [
        "Question 2:Write a Python class for a `Car` with attributes for `make`, `model`, and `year`. Include a method to display\n",
        "the car's information."
      ],
      "metadata": {
        "id": "9JfF0mVIxHHT"
      }
    },
    {
      "cell_type": "code",
      "source": [
        "class Car:\n",
        "  def __init__(self,make,model,year):\n",
        "    self.make=make\n",
        "    self.model=model\n",
        "    self.year=year\n",
        "  def display_info(self):\n",
        "    print(f\"Car information: {self.make} {self.model} {self.year}\")\n",
        "\n",
        "my_car=Car(\"Toyata\",\"corolla\",2020)\n",
        "my_car.display_info()\n"
      ],
      "metadata": {
        "colab": {
          "base_uri": "https://localhost:8080/"
        },
        "id": "zT5B0tMQxOqC",
        "outputId": "fcf811bb-f511-4f8c-9054-ebdadec87c33"
      },
      "execution_count": null,
      "outputs": [
        {
          "output_type": "stream",
          "name": "stdout",
          "text": [
            "Car information: Toyata corolla 2020\n"
          ]
        }
      ]
    },
    {
      "cell_type": "markdown",
      "source": [
        "Question 3:Explain the difference between instance methods and class methods. Provide an example of each"
      ],
      "metadata": {
        "id": "hqxk2-ityyy7"
      }
    },
    {
      "cell_type": "markdown",
      "source": [
        "Ans 3: Instance Methods:>>Instance methods are the most common type of methods in Python classes. They are associated with an instance of the class and can access and modify the instance’s attributes. The first parameter of an instance method is always self, which refers to the instance itself.\n",
        "\n",
        "\n",
        "Class method:>>Class methods are associated with the class itself rather than any particular instance. They are defined using the @classmethod decorator and take cls as the first parameter, which refers to the class. Class methods can modify class-level attributes but cannot access or modify instance-level attributes directly."
      ],
      "metadata": {
        "id": "FDEPBgq7y7lS"
      }
    },
    {
      "cell_type": "code",
      "source": [
        "# example of instance method\n",
        "\n",
        "class Dog:\n",
        "  def __init__(self,name):\n",
        "    self.name=name\n",
        "\n",
        "  def bark(self):\n",
        "    return f\"{self.name} says woof\"\n",
        "\n",
        "my_dog=Dog(\"Buddy\")\n",
        "print(my_dog.bark())\n"
      ],
      "metadata": {
        "colab": {
          "base_uri": "https://localhost:8080/"
        },
        "id": "rFV7REgizjBS",
        "outputId": "eb3da592-d5fe-4fc4-f4f8-6cb5ee5d898b"
      },
      "execution_count": null,
      "outputs": [
        {
          "output_type": "stream",
          "name": "stdout",
          "text": [
            "Buddy says woof\n"
          ]
        }
      ]
    },
    {
      "cell_type": "code",
      "source": [
        "# example of class method\n",
        "\n",
        "class Dog:\n",
        "    species = \"Canis familiaris\"\n",
        "\n",
        "    def __init__(self, name):\n",
        "        self.name = name\n",
        "\n",
        "    @classmethod\n",
        "    def change_species(cls, new_species):\n",
        "        cls.species = new_species\n",
        "\n",
        "# Calling the class method\n",
        "Dog.change_species(\"Canis lupus\")\n",
        "print(Dog.species)  # Output: Canis lupus\n"
      ],
      "metadata": {
        "colab": {
          "base_uri": "https://localhost:8080/"
        },
        "id": "anDHXWrv0P-r",
        "outputId": "c12e359b-2f0e-464e-cb81-6cc9055e6c30"
      },
      "execution_count": null,
      "outputs": [
        {
          "output_type": "stream",
          "name": "stdout",
          "text": [
            "Canis lupus\n"
          ]
        }
      ]
    },
    {
      "cell_type": "markdown",
      "source": [
        "Question 4: How does Python implement method overloading? Give an example"
      ],
      "metadata": {
        "id": "afDisxUC039k"
      }
    },
    {
      "cell_type": "markdown",
      "source": [
        "Ans:Python does not support method overloading in the same way as some other languages like Java or C++. However, you can achieve similar functionality using default arguments, variable-length arguments, or by using decorators like multipledispatch."
      ],
      "metadata": {
        "id": "krw6F_h41Uz6"
      }
    },
    {
      "cell_type": "code",
      "source": [
        "# Example\n",
        "class Human:\n",
        "    def say_hello(self, name=None):\n",
        "        if name is not None:\n",
        "            print(f\"Hello, {name}!\")\n",
        "        else:\n",
        "            print(\"Hello!\")\n",
        "\n",
        "# Create an instance of Human\n",
        "person = Human()\n",
        "\n",
        "# Call the method with and without an argument\n",
        "person.say_hello()        # Output: Hello!\n",
        "person.say_hello(\"Alice\") # Output: Hello, Alice!\n"
      ],
      "metadata": {
        "colab": {
          "base_uri": "https://localhost:8080/"
        },
        "id": "ZT7rZf4K1YEH",
        "outputId": "25d4e115-92ee-4706-a60c-83cbcee5b7dc"
      },
      "execution_count": null,
      "outputs": [
        {
          "output_type": "stream",
          "name": "stdout",
          "text": [
            "Hello!\n",
            "Hello, Alice!\n"
          ]
        }
      ]
    },
    {
      "cell_type": "markdown",
      "source": [
        "Question 5: What are the three types of access modifiers in Python? How are they denoted?\n"
      ],
      "metadata": {
        "id": "6MraZ0ct1qo4"
      }
    },
    {
      "cell_type": "markdown",
      "source": [
        "Ans 3: 1.Public:>>Members declared as public are accesssible from any part of thhe programm.By default all members of a class are public.\n",
        "\n",
        "\n",
        "\n",
        "2.Private:>> Members declared as private are accessible only within the class where they are defined. They are not accessible from outside the class or its subclasses.\n",
        "\n",
        "\n",
        "\n",
        "3.Protected:>> Members declared as protected are accessible within the class and its subclasses. They are not intended to be accessed directly from outside the class.\n",
        "\n"
      ],
      "metadata": {
        "id": "wfHnk_LY2Asp"
      }
    },
    {
      "cell_type": "code",
      "source": [
        "# example of public\n",
        "\n",
        "class Student:\n",
        "  def __init__(self,name,masters):\n",
        "    self.name=name\n",
        "    self.masters=masters\n",
        "\n",
        "stud=Student(\"Ram\",\"phd\")\n",
        "\n",
        "stud.name\n",
        "\n"
      ],
      "metadata": {
        "colab": {
          "base_uri": "https://localhost:8080/",
          "height": 36
        },
        "id": "JMJBQwiN6fwW",
        "outputId": "97be8a4b-6c27-433f-fa4f-3566d3f649d3"
      },
      "execution_count": null,
      "outputs": [
        {
          "output_type": "execute_result",
          "data": {
            "text/plain": [
              "'Ram'"
            ],
            "application/vnd.google.colaboratory.intrinsic+json": {
              "type": "string"
            }
          },
          "metadata": {},
          "execution_count": 9
        }
      ]
    },
    {
      "cell_type": "code",
      "source": [
        "stud.masters"
      ],
      "metadata": {
        "colab": {
          "base_uri": "https://localhost:8080/",
          "height": 36
        },
        "id": "ggPYD9k37Jo3",
        "outputId": "5cdcf107-e13a-410a-86e9-b32b70b01bdb"
      },
      "execution_count": null,
      "outputs": [
        {
          "output_type": "execute_result",
          "data": {
            "text/plain": [
              "'phd'"
            ],
            "application/vnd.google.colaboratory.intrinsic+json": {
              "type": "string"
            }
          },
          "metadata": {},
          "execution_count": 11
        }
      ]
    },
    {
      "cell_type": "code",
      "source": [
        "#example of private\n",
        "class Student:\n",
        "    def __init__(self, name, degree):\n",
        "        self.name = name\n",
        "        self.__degree = degree  # private data\n",
        "\n",
        "    def stud_info(self):\n",
        "        print(\"name:\", self.name, \"degree:\", self.__degree)\n",
        "\n",
        "    def get_degree(self):\n",
        "        return self.__degree\n",
        "\n",
        "obj = Student(\"Ajay\", \"masters\")\n",
        "\n",
        "# Accessing private data using a public method\n",
        "print(obj.get_degree())\n",
        "\n",
        "# Accessing private data using name mangling\n",
        "print(obj._Student__degree)\n"
      ],
      "metadata": {
        "colab": {
          "base_uri": "https://localhost:8080/"
        },
        "id": "gCtl1CkT-kWk",
        "outputId": "5f18ec17-ccd8-4502-80cb-f7804d614af3"
      },
      "execution_count": null,
      "outputs": [
        {
          "output_type": "stream",
          "name": "stdout",
          "text": [
            "masters\n",
            "masters\n"
          ]
        }
      ]
    },
    {
      "cell_type": "code",
      "source": [
        "# example of protected\n",
        "\n",
        "class MyClass:\n",
        "    def __init__(self, name):\n",
        "        self._name = name  # Protected member\n",
        "\n",
        "class SubClass(MyClass):\n",
        "    def display_name(self):\n",
        "        print(self._name)  # Accessible within subclass\n",
        "\n",
        "obj = SubClass(\"Alice\")\n",
        "obj.display_name()  # Accessible\n"
      ],
      "metadata": {
        "colab": {
          "base_uri": "https://localhost:8080/"
        },
        "id": "hyHu3d5Q_ZTM",
        "outputId": "2cdf4e3c-e09a-4cd0-8d1a-f4a7edcd8010"
      },
      "execution_count": null,
      "outputs": [
        {
          "output_type": "stream",
          "name": "stdout",
          "text": [
            "Alice\n"
          ]
        }
      ]
    },
    {
      "cell_type": "markdown",
      "source": [
        "Question:6 Describe the five types of inheritance in Python. Provide a simple example of multiple inheritance.\n"
      ],
      "metadata": {
        "id": "XcL644cr_19U"
      }
    },
    {
      "cell_type": "markdown",
      "source": [
        "Ans 6: refers to process of child receiving the properties of parent class is called inheritance\n",
        "\n",
        "\n",
        "1. Single Inheritance >> when a derived class has only one parent class .\n",
        "\n",
        "\n",
        "2.Multilevel inheritance:>> In multilevel\n",
        "when a derived class inherits another derived class.\n",
        "\n",
        "3.Multiple Inheritance:>> one child class may inherit the properity of multiple parents class.\n",
        "\n",
        "\n",
        "4.Hierarchical inheritance :>> In this inheritance one parent class and more than two child class .\n",
        "\n",
        "5.Hybrid Inheritance:>> A combination of two or more types of inheritance.\n"
      ],
      "metadata": {
        "id": "hwOzT9DgAISE"
      }
    },
    {
      "cell_type": "code",
      "source": [
        "# example of Single inheritance\n",
        "class Parent:\n",
        "    def func1(self):\n",
        "        print(\"This is function 1\")\n",
        "\n",
        "class Child(Parent):\n",
        "    def func2(self):\n",
        "        print(\"This is function 2\")\n",
        "\n",
        "obj = Child()\n",
        "obj.func1()  # Output: This is function 1\n",
        "obj.func2()  # Output: This is function 2\n"
      ],
      "metadata": {
        "colab": {
          "base_uri": "https://localhost:8080/"
        },
        "id": "0uClnefBJJQ1",
        "outputId": "9b343137-a757-4965-fd94-d183e23772f2"
      },
      "execution_count": null,
      "outputs": [
        {
          "output_type": "stream",
          "name": "stdout",
          "text": [
            "This is function 1\n",
            "This is function 2\n"
          ]
        }
      ]
    },
    {
      "cell_type": "code",
      "source": [
        "# example of mltilevel inheritace\n",
        "class Grandparent:\n",
        "    def func1(self):\n",
        "        print(\"This is function 1 from Grandparent\")\n",
        "\n",
        "class Parent(Grandparent):\n",
        "    def func2(self):\n",
        "        print(\"This is function 2 from Parent\")\n",
        "\n",
        "class Child(Parent):\n",
        "    def func3(self):\n",
        "        print(\"This is function 3 from Child\")\n",
        "\n",
        "obj = Child()\n",
        "obj.func1()  # Output: This is function 1 from Grandparent\n",
        "obj.func2()  # Output: This is function 2 from Parent\n",
        "obj.func3()  # Output: This is function 3 from Child\n",
        "\n"
      ],
      "metadata": {
        "colab": {
          "base_uri": "https://localhost:8080/"
        },
        "id": "gSjeDqITJVak",
        "outputId": "cf1422cd-75da-4aa0-a07f-d866e3ab8e48"
      },
      "execution_count": null,
      "outputs": [
        {
          "output_type": "stream",
          "name": "stdout",
          "text": [
            "This is function 1 from Grandparent\n",
            "This is function 2 from Parent\n",
            "This is function 3 from Child\n"
          ]
        }
      ]
    },
    {
      "cell_type": "code",
      "source": [
        "# Example of multiple inheritance\n",
        "class Parent1:\n",
        "    def func1(self):\n",
        "        print(\"This is function 1 from Parent1\")\n",
        "\n",
        "class Parent2:\n",
        "    def func2(self):\n",
        "        print(\"This is function 2 from Parent2\")\n",
        "\n",
        "class Child(Parent1, Parent2):\n",
        "    def func3(self):\n",
        "        print(\"This is function 3 from Child\")\n",
        "\n",
        "obj = Child()\n",
        "obj.func1()  # Output: This is function 1 from Parent1\n",
        "obj.func2()  # Output: This is function 2 from Parent2\n",
        "obj.func3()  # Output: This is function 3 from Child\n",
        "\n"
      ],
      "metadata": {
        "colab": {
          "base_uri": "https://localhost:8080/"
        },
        "id": "8g016ttNJnU0",
        "outputId": "c5791932-8bf3-40ca-f9f0-8cb619cf443e"
      },
      "execution_count": null,
      "outputs": [
        {
          "output_type": "stream",
          "name": "stdout",
          "text": [
            "This is function 1 from Parent1\n",
            "This is function 2 from Parent2\n",
            "This is function 3 from Child\n"
          ]
        }
      ]
    },
    {
      "cell_type": "code",
      "source": [
        "# Hierarchical inheritance\n",
        "class Parent:\n",
        "    def func1(self):\n",
        "        print(\"This is function 1 from Parent\")\n",
        "\n",
        "class Child1(Parent):\n",
        "    def func2(self):\n",
        "        print(\"This is function 2 from Child1\")\n",
        "\n",
        "class Child2(Parent):\n",
        "    def func3(self):\n",
        "        print(\"This is function 3 from Child2\")\n",
        "\n",
        "obj1 = Child1()\n",
        "obj2 = Child2()\n",
        "obj1.func1()  # Output: This is function 1 from Parent\n",
        "obj1.func2()  # Output: This is function 2 from Child1\n",
        "obj2.func1()  # Output: This is function 1 from Parent\n",
        "obj2.func3()  # Output: This is function 3 from Child2\n",
        "\n"
      ],
      "metadata": {
        "colab": {
          "base_uri": "https://localhost:8080/"
        },
        "id": "4ZFBFzM1Jz0L",
        "outputId": "a9886d04-9b85-4cc8-f9d3-ffad5c0c89e0"
      },
      "execution_count": null,
      "outputs": [
        {
          "output_type": "stream",
          "name": "stdout",
          "text": [
            "This is function 1 from Parent\n",
            "This is function 2 from Child1\n",
            "This is function 1 from Parent\n",
            "This is function 3 from Child2\n"
          ]
        }
      ]
    },
    {
      "cell_type": "code",
      "source": [
        "# Hybrid inheritance\n",
        "class Parent:\n",
        "    def func1(self):\n",
        "        print(\"This is function 1 from Parent\")\n",
        "\n",
        "class Child1(Parent):\n",
        "    def func2(self):\n",
        "        print(\"This is function 2 from Child1\")\n",
        "\n",
        "class Child2(Parent):\n",
        "    def func3(self):\n",
        "        print(\"This is function 3 from Child2\")\n",
        "\n",
        "class GrandChild(Child1, Child2):\n",
        "    def func4(self):\n",
        "        print(\"This is function 4 from GrandChild\")\n",
        "\n",
        "obj = GrandChild()\n",
        "obj.func1()  # Output: This is function 1 from Parent\n",
        "obj.func2()  # Output: This is function 2 from Child1\n",
        "obj.func3()  # Output: This is function 3 from Child2\n",
        "obj.func4()  # Output: This is function 4 from GrandChild\n"
      ],
      "metadata": {
        "colab": {
          "base_uri": "https://localhost:8080/"
        },
        "id": "tYUcNOU5KMwc",
        "outputId": "a9022f24-d435-4b30-bf4c-4bf8ec5c98d4"
      },
      "execution_count": null,
      "outputs": [
        {
          "output_type": "stream",
          "name": "stdout",
          "text": [
            "This is function 1 from Parent\n",
            "This is function 2 from Child1\n",
            "This is function 3 from Child2\n",
            "This is function 4 from GrandChild\n"
          ]
        }
      ]
    },
    {
      "cell_type": "markdown",
      "source": [
        "Question 7: What is the Method Resolution Order (MRO) in Python? How can you retrieve it programmatically"
      ],
      "metadata": {
        "id": "hmq1_wscKf1t"
      }
    },
    {
      "cell_type": "markdown",
      "source": [
        "Ans 7: It occurs when a class inherits from two or more than two class  will lead to ambiguity in executing of method\n",
        "To remove this diamond problem >> python use  method resolution order (MRO) algorithm called c3 Linerization."
      ],
      "metadata": {
        "id": "qQzMnfiLKpJl"
      }
    },
    {
      "cell_type": "code",
      "source": [
        "class A:\n",
        "    def rk(self):\n",
        "        print(\"In class A\")\n",
        "\n",
        "class B(A):\n",
        "    def rk(self):\n",
        "        print(\"In class B\")\n",
        "\n",
        "class C(A):\n",
        "    def rk(self):\n",
        "        print(\"In class C\")\n",
        "\n",
        "class D(B, C):\n",
        "    pass\n",
        "\n",
        "r = D()\n",
        "r.rk()\n",
        "\n"
      ],
      "metadata": {
        "colab": {
          "base_uri": "https://localhost:8080/"
        },
        "id": "n9UEEELGL3XD",
        "outputId": "f4fba718-ae0f-452e-dbec-9904a665e724"
      },
      "execution_count": null,
      "outputs": [
        {
          "output_type": "stream",
          "name": "stdout",
          "text": [
            "In class B\n"
          ]
        }
      ]
    },
    {
      "cell_type": "markdown",
      "source": [
        "Question 8:. Create an abstract base class `Shape` with an abstract method `area()`. Then create two subclasses\n",
        "`Circle` and `Rectangle` that implement the `area()` method"
      ],
      "metadata": {
        "id": "HeujHwdDMY3t"
      }
    },
    {
      "cell_type": "code",
      "source": [
        "from abc import abstractmethod\n",
        "\n",
        "class Shape:\n",
        "    @abstractmethod\n",
        "    def calculate_area(self):\n",
        "        pass\n",
        "\n",
        "class Rectangle(Shape):\n",
        "    def __init__(self, length, breadth):\n",
        "        self.length = length\n",
        "        self.breadth = breadth\n",
        "\n",
        "    def calculate_area(self):\n",
        "        return self.length * self.breadth\n",
        "\n",
        "class Circle(Shape):\n",
        "    def __init__(self, radius):\n",
        "        self.radius = radius\n",
        "\n",
        "    def calculate_area(self):\n",
        "        return 3.14 * self.radius ** 2\n",
        "\n",
        "rect = Rectangle(5, 10)\n",
        "print(rect.calculate_area()) # Output: 50\n",
        "\n",
        "circle = Circle(7)\n",
        "print(circle.calculate_area()) # Output: 153.86"
      ],
      "metadata": {
        "colab": {
          "base_uri": "https://localhost:8080/"
        },
        "id": "pQoeSkv0MhZq",
        "outputId": "cea1adc2-6316-40ce-dec4-7e7b4b8710f0"
      },
      "execution_count": 19,
      "outputs": [
        {
          "output_type": "stream",
          "name": "stdout",
          "text": [
            "50\n",
            "153.86\n"
          ]
        }
      ]
    },
    {
      "cell_type": "markdown",
      "source": [
        "Question 9: Demonstrate polymorphism by creating a function that can work with different shape objects to calculate\n",
        "and print their areas"
      ],
      "metadata": {
        "id": "TIDqi9zzOPIs"
      }
    },
    {
      "cell_type": "code",
      "source": [
        "from math import pi\n",
        "\n",
        "class Shape:\n",
        "    def area(self):\n",
        "        pass\n",
        "\n",
        "class Circle(Shape):\n",
        "    def __init__(self, radius):\n",
        "        self.radius = radius\n",
        "\n",
        "    def area(self):\n",
        "        return pi * self.radius ** 2\n",
        "\n",
        "class Rectangle(Shape):\n",
        "    def __init__(self, width, height):\n",
        "        self.width = width\n",
        "        self.height = height\n",
        "\n",
        "    def area(self):\n",
        "        return self.width * self.height\n",
        "\n",
        "class Triangle(Shape):\n",
        "    def __init__(self, base, height):\n",
        "        self.base = base\n",
        "        self.height = height\n",
        "\n",
        "    def area(self):\n",
        "        return 0.5 * self.base * self.height\n",
        "\n",
        "def print_area(shape):\n",
        "    print(f\"The area is: {shape.area()}\")\n",
        "\n",
        "# Create instances of different shapes\n",
        "circle = Circle(5)\n",
        "rectangle = Rectangle(4, 6)\n",
        "triangle = Triangle(3, 7)\n",
        "\n",
        "# Print areas using the same function\n",
        "print_area(circle)      # The area is: 78.53981633974483\n",
        "print_area(rectangle)   # The area is: 24\n",
        "print_area(triangle)    # The area is: 10.5\n"
      ],
      "metadata": {
        "colab": {
          "base_uri": "https://localhost:8080/"
        },
        "id": "66BxIbN-OVUp",
        "outputId": "efe2c92e-b79a-4ebd-d457-958662e17b94"
      },
      "execution_count": null,
      "outputs": [
        {
          "output_type": "stream",
          "name": "stdout",
          "text": [
            "The area is: 78.53981633974483\n",
            "The area is: 24\n",
            "The area is: 10.5\n"
          ]
        }
      ]
    },
    {
      "cell_type": "markdown",
      "source": [
        "Question 10: Implement encapsulation in a `BankAccount` class with private attributes for `balance` and\n",
        "`account_number`. Include methods for deposit, withdrawal, and balance inquiry."
      ],
      "metadata": {
        "id": "DkbIIL_qPgU5"
      }
    },
    {
      "cell_type": "code",
      "source": [
        "class BankAccount:\n",
        "    def __init__(self, account_number, initial_balance=0):\n",
        "        self.__account_number = account_number  # Private attribute\n",
        "        self.__balance = initial_balance  # Private attribute\n",
        "\n",
        "    def deposit(self, amount):\n",
        "        if amount > 0:\n",
        "            self.__balance += amount\n",
        "            print(f\"Deposited {amount}. New balance is {self.__balance}.\")\n",
        "        else:\n",
        "            print(\"Deposit amount must be positive.\")\n",
        "\n",
        "    def withdraw(self, amount):\n",
        "        if 0 < amount <= self.__balance:\n",
        "            self.__balance -= amount\n",
        "            print(f\"Withdrew {amount}. New balance is {self.__balance}.\")\n",
        "        else:\n",
        "            print(\"Insufficient funds or invalid amount.\")\n",
        "\n",
        "    def get_balance(self):\n",
        "        return self.__balance\n",
        "\n",
        "    def get_account_number(self):\n",
        "        return self.__account_number\n",
        "\n",
        "# Example usage:\n",
        "account = BankAccount(\"123456789\", 1000)\n",
        "account.deposit(500)\n",
        "account.withdraw(200)\n",
        "print(f\"Balance: {account.get_balance()}\")\n",
        "print(f\"Account Number: {account.get_account_number()}\")\n"
      ],
      "metadata": {
        "colab": {
          "base_uri": "https://localhost:8080/"
        },
        "id": "N6pHXG3JPj_Y",
        "outputId": "cb81ab53-7d13-4cca-c23c-b293f0c309e0"
      },
      "execution_count": null,
      "outputs": [
        {
          "output_type": "stream",
          "name": "stdout",
          "text": [
            "Deposited 500. New balance is 1500.\n",
            "Withdrew 200. New balance is 1300.\n",
            "Balance: 1300\n",
            "Account Number: 123456789\n"
          ]
        }
      ]
    },
    {
      "cell_type": "markdown",
      "source": [
        "Question 11:  Write a class that overrides the `__str__` and `__add__` magic methods. What will these methods allow\n",
        "you to do"
      ],
      "metadata": {
        "id": "-YT2LOFsWmHD"
      }
    },
    {
      "cell_type": "code",
      "source": [
        "class MyClass:\n",
        "  def __init__(self, value):\n",
        "    self.value = value\n",
        "\n",
        "  def __str__(self):\n",
        "    return f\"MyClass object with value: {self.value}\"\n",
        "\n",
        "  def __add__(self, other):\n",
        "    return MyClass(self.value + other.value)\n",
        "\n",
        "obj1 = MyClass(10)\n",
        "obj2 = MyClass(20)\n",
        "\n",
        "print(obj1)\n",
        "print(obj1 + obj2)"
      ],
      "metadata": {
        "id": "2H70oBk1Wq9s",
        "colab": {
          "base_uri": "https://localhost:8080/"
        },
        "outputId": "dc69f8e4-102c-4770-cb82-c4a8bad1df8f"
      },
      "execution_count": 20,
      "outputs": [
        {
          "output_type": "stream",
          "name": "stdout",
          "text": [
            "MyClass object with value: 10\n",
            "MyClass object with value: 30\n"
          ]
        }
      ]
    },
    {
      "cell_type": "markdown",
      "source": [
        "Question 12: . Create a decorator that measures and prints the execution time of a function"
      ],
      "metadata": {
        "id": "gbppZhD3XQp7"
      }
    },
    {
      "cell_type": "code",
      "source": [
        "import time\n",
        "def timer_decorator(func):\n",
        "  def timer():\n",
        "    start=time.time()\n",
        "    func=()\n",
        "    end=time.time()\n",
        "    print(\"the time of your fuction \",start-end)\n",
        "  return timer\n",
        "\n",
        "@timer_decorator\n",
        "\n",
        "def func_test():\n",
        "  print(11*1000)\n",
        "func_test()"
      ],
      "metadata": {
        "colab": {
          "base_uri": "https://localhost:8080/"
        },
        "id": "UPJAIwHoXTwT",
        "outputId": "04539008-7829-4493-a801-a1ffe94d7d9e"
      },
      "execution_count": 2,
      "outputs": [
        {
          "output_type": "stream",
          "name": "stdout",
          "text": [
            "the time of your fuction  -7.152557373046875e-07\n"
          ]
        }
      ]
    },
    {
      "cell_type": "markdown",
      "source": [
        "Question 13:Explain the concept of the Diamond Problem in multiple inheritance. How does Python resolve it?"
      ],
      "metadata": {
        "id": "oPUVuA2HYw0T"
      }
    },
    {
      "cell_type": "markdown",
      "source": [
        "Ans 13: It occurs when a class inherits from two or more thhan two class will lead to ambiguity in executing of method To remove this diamond problem >> python use method resolution order (MRO) algorithm called c3 Linerization.\n",
        "\n",
        "\n",
        "class A is the top level parent\n",
        "\n",
        "Class B and class C inherit from A\n",
        "\n",
        "class D inherits from both B and C"
      ],
      "metadata": {
        "id": "ZjwXp45nZVFU"
      }
    },
    {
      "cell_type": "code",
      "source": [
        "class A:\n",
        "  def greet(self):\n",
        "    print(\"hello from A\")\n",
        "\n",
        "class B(A):\n",
        "  def greet(self):\n",
        "    print(\"hello from B\")\n",
        "\n",
        "class C(A):\n",
        "  def greet(self):\n",
        "    print(\"hello from C\")\n",
        "\n",
        "class D(B,C):\n",
        "  pass\n",
        "\n",
        "d=D()\n",
        "d.greet()\n"
      ],
      "metadata": {
        "colab": {
          "base_uri": "https://localhost:8080/"
        },
        "id": "Q2pWJ6pXZ--K",
        "outputId": "c60c499f-84c8-48a1-d6f3-a15ea5f27521"
      },
      "execution_count": 3,
      "outputs": [
        {
          "output_type": "stream",
          "name": "stdout",
          "text": [
            "hello from B\n"
          ]
        }
      ]
    },
    {
      "cell_type": "markdown",
      "source": [
        "Question 14: Write a class method that keeps track of the number of instances created from a class."
      ],
      "metadata": {
        "id": "dn721LYgbb8U"
      }
    },
    {
      "cell_type": "code",
      "source": [
        "class MyClass:\n",
        "    instance_count = 0  # Class attribute to track the number of instances\n",
        "\n",
        "    def __init__(self):\n",
        "        MyClass.instance_count += 1  # Increment the count whenever an instance is created\n",
        "\n",
        "    @classmethod\n",
        "    def get_instance_count(cls):\n",
        "        return cls.instance_count\n",
        "\n",
        "# Example usage:\n",
        "a = MyClass()\n",
        "b = MyClass()\n",
        "c = MyClass()\n",
        "\n",
        "print(f\"Number of instances created: {MyClass.get_instance_count()}\")"
      ],
      "metadata": {
        "colab": {
          "base_uri": "https://localhost:8080/"
        },
        "id": "es3ew4pobs9q",
        "outputId": "5ed42ec4-d87a-42f4-c096-6058bfb6ddc2"
      },
      "execution_count": 21,
      "outputs": [
        {
          "output_type": "stream",
          "name": "stdout",
          "text": [
            "Number of instances created: 3\n"
          ]
        }
      ]
    },
    {
      "cell_type": "markdown",
      "source": [
        "Question 15: Implement a static method in a class that checks if a given year is a leap year."
      ],
      "metadata": {
        "id": "TmZjXEiifna1"
      }
    },
    {
      "cell_type": "code",
      "source": [
        "class Graph:\n",
        "    @staticmethod\n",
        "    def is_leap_year(year):\n",
        "        # A leap year is divisible by 4, but not divisible by 100 unless it's also divisible by 400\n",
        "        if year % 4 == 0:\n",
        "            if year % 100 == 0:\n",
        "                if year % 400 == 0:\n",
        "                    return True  # Leap year\n",
        "                else:\n",
        "                    return False  # Not a leap year\n",
        "            else:\n",
        "                return True  # Leap year\n",
        "        else:\n",
        "            return False  # Not a leap year\n",
        "\n",
        "# Example usage\n",
        "print(Graph.is_leap_year(2020))\n",
        "print(Graph.is_leap_year(1900))\n",
        "print(Graph.is_leap_year(2000))\n",
        "print(Graph.is_leap_year(2023))"
      ],
      "metadata": {
        "colab": {
          "base_uri": "https://localhost:8080/"
        },
        "id": "khCWmpnUhW_X",
        "outputId": "91ef5cf3-2d2f-4f59-e471-d261116ba78c"
      },
      "execution_count": 18,
      "outputs": [
        {
          "output_type": "stream",
          "name": "stdout",
          "text": [
            "True\n",
            "False\n",
            "True\n",
            "False\n"
          ]
        }
      ]
    },
    {
      "cell_type": "code",
      "source": [],
      "metadata": {
        "id": "k0F_3vwvhm_V"
      },
      "execution_count": null,
      "outputs": []
    }
  ]
}